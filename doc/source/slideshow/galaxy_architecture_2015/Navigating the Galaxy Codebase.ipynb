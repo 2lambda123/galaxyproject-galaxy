{
 "cells": [
  {
   "cell_type": "markdown",
   "metadata": {},
   "source": [
    "Let's fetch Galaxy from Github @ [https://github.com/galaxyproject/galaxy](https://github.com/galaxyproject/galaxy)"
   ]
  },
  {
   "cell_type": "code",
   "execution_count": 25,
   "metadata": {
    "collapsed": true
   },
   "outputs": [],
   "source": [
    "import tempfile\n",
    "GALAXY_ROOT=tempfile.mkdtemp(prefix=\"gxtutorial\")"
   ]
  },
  {
   "cell_type": "code",
   "execution_count": 26,
   "metadata": {
    "collapsed": false
   },
   "outputs": [
    {
     "name": "stdout",
     "output_type": "stream",
     "text": [
      "Cloning into '/tmp/gxtutorialhAfaXf'...\n",
      "remote: Counting objects: 221192, done.\u001b[K\n",
      "remote: Compressing objects: 100% (25/25), done.\u001b[K\n",
      "remote: Total 221192 (delta 7), reused 0 (delta 0), pack-reused 221167\u001b[K\n",
      "Receiving objects: 100% (221192/221192), 111.26 MiB | 2.97 MiB/s, done.\n",
      "Resolving deltas: 100% (175493/175493), done.\n",
      "Checking connectivity... done.\n"
     ]
    }
   ],
   "source": [
    "!git clone https://github.com/galaxyproject/galaxy $GALAXY_ROOT"
   ]
  },
  {
   "cell_type": "code",
   "execution_count": 15,
   "metadata": {
    "collapsed": false
   },
   "outputs": [
    {
     "name": "stdout",
     "output_type": "stream",
     "text": [
      "* \u001b[32mdev\u001b[m\r\n"
     ]
    }
   ],
   "source": [
    "!git branch"
   ]
  },
  {
   "cell_type": "code",
   "execution_count": 24,
   "metadata": {
    "collapsed": false
   },
   "outputs": [
    {
     "name": "stdout",
     "output_type": "stream",
     "text": [
      "ac5907fa9f4adbd92be1650333ee54279ffe63cb\trefs/heads/dev\r\n",
      "06eeb8bafec6f6262041cabe7b34e57d4e1aaa7c\trefs/heads/master\r\n",
      "a197dcc026708918de131da4cef163f1d66d40bc\trefs/heads/release_13.01\r\n",
      "8b7e2af00caca1e1e3b44956c56366876a22c3de\trefs/heads/release_13.02\r\n",
      "e3b9e64efb5c3716d09b9a247accded8539c79f8\trefs/heads/release_13.04\r\n",
      "438db6b26bd189a91369e88cc792884fbd5ea2c2\trefs/heads/release_13.06\r\n",
      "3edcc3f84e4051a9488368dc569e504950a18a6d\trefs/heads/release_13.08\r\n",
      "a8abf0e4b6196bd4acb38804ae799155bc4af900\trefs/heads/release_13.11\r\n",
      "7c671f8421b0b96ba8df06a4678e00cfe614f16f\trefs/heads/release_14.02\r\n",
      "0637e0adeeafde44405f69581c3e9b2ae7123ef7\trefs/heads/release_14.04\r\n",
      "a900f995161e17197a294cca1a3ea471fffc2a7c\trefs/heads/release_14.06\r\n",
      "565e8b9c7b427af2347581e33732e5356cb3136c\trefs/heads/release_14.08\r\n",
      "cee85bae67377d3fad42bec5b4ebb022aaf7b2c7\trefs/heads/release_14.10\r\n",
      "61cd045ffa947a69abacddea459f725ba569584a\trefs/heads/release_15.01\r\n",
      "0122040fad865487e2377cee35360af49e37d0e8\trefs/heads/release_15.03\r\n",
      "c8e9845c5c57714042a75053d954b1c7f0962672\trefs/heads/release_15.05\r\n",
      "30608c177c625f4ce66f1376a66621687fe7711e\trefs/heads/release_15.07\r\n",
      "a2114fdd0e234a3253cec79a02e30899ca081359\trefs/heads/release_15.10\r\n",
      "75cdec9b4baa0a003b6516d524c625bb6aaa07bb\trefs/heads/release_16.01\r\n",
      "70b40979968f1ec3c36f025e5639b879ad017ca1\trefs/heads/release_16.04\r\n"
     ]
    }
   ],
   "source": [
    "!git ls-remote origin heads*"
   ]
  },
  {
   "cell_type": "markdown",
   "metadata": {},
   "source": [
    "Branches are \n",
    "- `dev` current development release, non-bug fixes go here.\n",
    "- `release_YY.MM` current releases, bug fixes go here.\n",
    "- `master` most recent stable release."
   ]
  },
  {
   "cell_type": "code",
   "execution_count": 25,
   "metadata": {
    "collapsed": false
   },
   "outputs": [
    {
     "name": "stdout",
     "output_type": "stream",
     "text": [
      "* \u001b[32mdev\u001b[m\r\n"
     ]
    }
   ],
   "source": [
    "!git branch"
   ]
  },
  {
   "cell_type": "markdown",
   "metadata": {},
   "source": [
    "The default clone target is `dev`."
   ]
  },
  {
   "cell_type": "code",
   "execution_count": 26,
   "metadata": {
    "collapsed": false,
    "scrolled": true
   },
   "outputs": [
    {
     "name": "stdout",
     "output_type": "stream",
     "text": [
      "CITATION                 \u001b[0m\u001b[01;32mextract_dataset_parts.sh\u001b[0m*  \u001b[01;32mrun.sh\u001b[0m*\r\n",
      "\u001b[01;34mclient\u001b[0m/                  \u001b[01;34mgalaxy\u001b[0m/                    \u001b[01;32mrun_tests.sh\u001b[0m*\r\n",
      "CODE_OF_CONDUCT.md       \u001b[01;34mlib\u001b[0m/                       \u001b[01;32mrun_tool_shed.sh\u001b[0m*\r\n",
      "\u001b[01;34mconfig\u001b[0m/                  LICENSE.txt                \u001b[01;34mscripts\u001b[0m/\r\n",
      "\u001b[01;34mcontrib\u001b[0m/                 \u001b[01;34mlocale\u001b[0m/                    setup.cfg\r\n",
      "CONTRIBUTING.md          Makefile                   \u001b[01;34mstatic\u001b[0m/\r\n",
      "CONTRIBUTORS.md          \u001b[01;32mmanage_db.sh\u001b[0m*              \u001b[01;34mtemplates\u001b[0m/\r\n",
      "\u001b[01;32mcreate_db.sh\u001b[0m*            manage_tools.sh            \u001b[01;34mtest\u001b[0m/\r\n",
      "\u001b[01;34mcron\u001b[0m/                    \u001b[01;34mopenid\u001b[0m/                    \u001b[01;34mtest-data\u001b[0m/\r\n",
      "\u001b[01;34mdatabase\u001b[0m/                README.rst                 \u001b[01;34mtool-data\u001b[0m/\r\n",
      "\u001b[01;34mdisplay_applications\u001b[0m/    \u001b[01;36mrequirements.txt\u001b[0m@          tool_list.py\r\n",
      "\u001b[01;34mdoc\u001b[0m/                     \u001b[01;32mrolling_restart.sh\u001b[0m*        \u001b[01;34mtools\u001b[0m/\r\n",
      "\u001b[01;34mexternal_service_types\u001b[0m/  \u001b[01;32mrun_reports.sh\u001b[0m*            tox.ini\r\n"
     ]
    }
   ],
   "source": [
    "ls"
   ]
  },
  {
   "cell_type": "code",
   "execution_count": 27,
   "metadata": {
    "collapsed": false
   },
   "outputs": [
    {
     "name": "stdout",
     "output_type": "stream",
     "text": [
      "\u001b[0m\u001b[01;32mcreate_db.sh\u001b[0m*              manage_tools.sh      \u001b[01;32mrun.sh\u001b[0m*\r\n",
      "\u001b[01;32mextract_dataset_parts.sh\u001b[0m*  \u001b[01;32mrolling_restart.sh\u001b[0m*  \u001b[01;32mrun_tests.sh\u001b[0m*\r\n",
      "\u001b[01;32mmanage_db.sh\u001b[0m*              \u001b[01;32mrun_reports.sh\u001b[0m*      \u001b[01;32mrun_tool_shed.sh\u001b[0m*\r\n"
     ]
    }
   ],
   "source": [
    "ls *sh"
   ]
  },
  {
   "cell_type": "markdown",
   "metadata": {},
   "source": [
    "### The Scripts\n",
    "- `run.sh` Start Galaxy.\n",
    "- `run_tool_shed.sh` Start the Tool Shed.\n",
    "- `run_reports.sh` Start the Galaxy Reports app.\n",
    "- `run_tests.sh` Run Galaxy Tests."
   ]
  },
  {
   "cell_type": "code",
   "execution_count": 40,
   "metadata": {
    "collapsed": false
   },
   "outputs": [
    {
     "name": "stdout",
     "output_type": "stream",
     "text": [
      "\u001b[0m\u001b[01;34mclient/\u001b[0m/   \u001b[01;34mdatabase/\u001b[0m/                \u001b[01;34mlib/\u001b[0m/      \u001b[01;34mstatic/\u001b[0m/     \u001b[01;34mtool-data/\u001b[0m/\r\n",
      "\u001b[01;34mconfig/\u001b[0m/   \u001b[01;34mdisplay_applications/\u001b[0m/    \u001b[01;34mlocale/\u001b[0m/   \u001b[01;34mtemplates/\u001b[0m/  \u001b[01;34mtools/\u001b[0m/\r\n",
      "\u001b[01;34mcontrib/\u001b[0m/  \u001b[01;34mdoc/\u001b[0m/                     \u001b[01;34mopenid/\u001b[0m/   \u001b[01;34mtest/\u001b[0m/\r\n",
      "\u001b[01;34mcron/\u001b[0m/     \u001b[01;34mexternal_service_types/\u001b[0m/  \u001b[01;34mscripts/\u001b[0m/  \u001b[01;34mtest-data/\u001b[0m/\r\n"
     ]
    }
   ],
   "source": [
    "ls -d */"
   ]
  },
  {
   "cell_type": "code",
   "execution_count": 38,
   "metadata": {
    "collapsed": false
   },
   "outputs": [
    {
     "name": "stdout",
     "output_type": "stream",
     "text": [
      "CITATION  CODE_OF_CONDUCT.md  CONTRIBUTING.md  CONTRIBUTORS.md  README.rst\r\n"
     ]
    }
   ],
   "source": [
    "ls *md *rst CITATION"
   ]
  },
  {
   "cell_type": "code",
   "execution_count": 43,
   "metadata": {
    "collapsed": false
   },
   "outputs": [
    {
     "name": "stdout",
     "output_type": "stream",
     "text": [
      "\u001b[36mclean-grunt-docker-image      \u001b[0m Remove grunt docker image\r\n",
      "\u001b[36mclient                        \u001b[0m Rebuild all client-side artifacts\r\n",
      "\u001b[36mdocs                          \u001b[0m generate Sphinx HTML documentation, including API docs\r\n",
      "\u001b[36mgrunt-docker                  \u001b[0m Run grunt inside docker\r\n",
      "\u001b[36mgrunt-docker-image            \u001b[0m Build docker image for running grunt\r\n",
      "\u001b[36mgrunt                         \u001b[0m Calls out to Grunt to build client\r\n",
      "\u001b[36mlint                          \u001b[0m check style using tox and flake8 for Python 2 and Python 3\r\n",
      "\u001b[36mnpm-deps                      \u001b[0m Install NodeJS dependencies.\r\n",
      "\u001b[36mopen-docs                     \u001b[0m generate Sphinx HTML documentation and open in browser\r\n",
      "\u001b[36mopen-project                  \u001b[0m open project on github\r\n",
      "\u001b[36mrelease-bootstrap-history     \u001b[0m bootstrap history for a new release\r\n",
      "\u001b[36mrelease-check-blocking-issues \u001b[0m Check github for release blocking issues\r\n",
      "\u001b[36mrelease-check-blocking-prs    \u001b[0m Check github for release blocking PRs\r\n",
      "\u001b[36mrelease-check-metadata        \u001b[0m check github PR metadata for target release\r\n",
      "\u001b[36mrelease-create-point          \u001b[0m Create a point release\r\n",
      "\u001b[36mrelease-create-rc             \u001b[0m Create a release-candidate branch\r\n",
      "\u001b[36mrelease-create                \u001b[0m Create a release branch\r\n",
      "\u001b[36mrelease-ensure-upstream       \u001b[0m Ensure upstream branch for release commands setup\r\n",
      "\u001b[36mrelease-issue                 \u001b[0m Create release issue on github\r\n",
      "\u001b[36mrelease-merge-stable-to-next  \u001b[0m Merge last release into dev\r\n",
      "\u001b[36mstyle                         \u001b[0m Calls the style task of Grunt\r\n",
      "This makefile is primarily used for building Galaxy's JS client. A sensible all target is not yet implemented.\r\n"
     ]
    }
   ],
   "source": [
    "!make"
   ]
  },
  {
   "cell_type": "markdown",
   "metadata": {
    "collapsed": true
   },
   "source": []
  },
  {
   "cell_type": "code",
   "execution_count": 2,
   "metadata": {
    "collapsed": false
   },
   "outputs": [
    {
     "name": "stdout",
     "output_type": "stream",
     "text": [
      "ls: cannot access lib: No such file or directory\r\n"
     ]
    }
   ],
   "source": []
  },
  {
   "cell_type": "code",
   "execution_count": null,
   "metadata": {
    "collapsed": true
   },
   "outputs": [],
   "source": []
  }
 ],
 "metadata": {
  "kernelspec": {
   "display_name": "Python 2",
   "language": "python",
   "name": "python2"
  },
  "language_info": {
   "codemirror_mode": {
    "name": "ipython",
    "version": 2
   },
   "file_extension": ".py",
   "mimetype": "text/x-python",
   "name": "python",
   "nbconvert_exporter": "python",
   "pygments_lexer": "ipython2",
   "version": "2.7.6"
  }
 },
 "nbformat": 4,
 "nbformat_minor": 0
}
